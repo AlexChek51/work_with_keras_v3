{
  "cells": [
    {
      "cell_type": "code",
      "execution_count": null,
      "metadata": {
        "id": "CWESaQ6yKviE"
      },
      "outputs": [],
      "source": [
        "!pip install --upgrade keras==3.0"
      ]
    },
    {
      "cell_type": "code",
      "execution_count": null,
      "metadata": {
        "id": "_6ZJsL-zbdAs"
      },
      "outputs": [],
      "source": [
        "import keras\n",
        "import matplotlib.pyplot as plt\n",
        "%matplotlib inline\n",
        "\n",
        "from tensorflow import data as tf_data\n",
        "import os\n",
        "import keras\n",
        "from keras import layers\n",
        "from keras.applications import EfficientNetV2B0\n",
        "\n",
        "IMAGE_SIZE = (224, 224) # Размер определен выбором модели\n",
        "BATCH_SIZE = 64"
      ]
    },
    {
      "cell_type": "code",
      "execution_count": null,
      "metadata": {
        "colab": {
          "base_uri": "https://localhost:8080/"
        },
        "id": "oJyWcqx4jJuS",
        "outputId": "d0826616-2321-4878-d044-18e4bff4e3d7"
      },
      "outputs": [
        {
          "output_type": "stream",
          "name": "stdout",
          "text": [
            "Mounted at /content/drive/\n"
          ]
        }
      ],
      "source": [
        "from google.colab import drive\n",
        "\n",
        "drive.mount('/content/drive/')"
      ]
    },
    {
      "cell_type": "code",
      "execution_count": null,
      "metadata": {
        "id": "-0WNPoNblKL7",
        "colab": {
          "base_uri": "https://localhost:8080/"
        },
        "outputId": "9ab32e46-79ee-4f00-eae8-d47e8ada3d3e"
      },
      "outputs": [
        {
          "output_type": "stream",
          "name": "stdout",
          "text": [
            "Количество классов: 10\n",
            "Метки классов: ['Afghan_hound', 'Chow', 'Brittany_spaniel', 'Siberian_husky', 'Dandie_Dinmont', 'Standard_poodle', 'Norfolk_terrier', 'Otterhound', 'Bernese_mountain_dog', 'Sealyham_terrier']\n"
          ]
        }
      ],
      "source": [
        "# Разархивируем датасета\n",
        "# !unzip -u '/content/drive/MyDrive/dogs/stanford_dogs.zip' -d '/content/drive/MyDrive/dogs/'\n",
        "\n",
        "# Папка с папками картинок, рассортированных по категориям\n",
        "IMAGE_PATH = '/content/drive/MyDrive/dogs/'\n",
        "\n",
        "# Определяем список имен классов\n",
        "CLASS_LIST = sorted(os.listdir(IMAGE_PATH))\n",
        "\n",
        "import random\n",
        "import shutil\n",
        "\n",
        "# Определяем количество случайных классов, которые нужно выбрать\n",
        "num_random_classes = 10\n",
        "\n",
        "# Выбираем случайные 10 классов\n",
        "random_classes = random.sample(CLASS_LIST, num_random_classes)\n",
        "\n",
        "# Создаем новую папку для случайных классов\n",
        "random_class_folder = '/content/drive/MyDrive/random_classes_dogs/'\n",
        "\n",
        "# Если папка уже существует, удаляем её и создаем заново\n",
        "if os.path.exists(random_class_folder):\n",
        "    shutil.rmtree(random_class_folder)\n",
        "os.makedirs(random_class_folder)\n",
        "\n",
        "# Копируем папки с фотографиями выбранных случайных классов в новую папку random_classes\n",
        "for class_name in random_classes:\n",
        "    source_path = os.path.join(IMAGE_PATH, class_name)\n",
        "    destination_path = os.path.join(random_class_folder, class_name)\n",
        "    shutil.copytree(source_path, destination_path)\n",
        "\n",
        "# Обновляем IMAGE_PATH до новой папки с рандомными классами\n",
        "IMAGE_PATH = random_class_folder\n",
        "\n",
        "# Обновляем CLASS_LIST и CLASS_COUNT\n",
        "CLASS_LIST = random_classes\n",
        "CLASS_COUNT = num_random_classes\n",
        "\n",
        "# Выводим обновленное количество классов и список классов\n",
        "print(f'Количество классов: {CLASS_COUNT}')\n",
        "print(f'Метки классов: {CLASS_LIST}')"
      ]
    },
    {
      "cell_type": "code",
      "execution_count": null,
      "metadata": {
        "colab": {
          "base_uri": "https://localhost:8080/"
        },
        "id": "1BTLOvo3ckLY",
        "outputId": "9f4397f8-2320-4247-e7dd-69f537cfd4b3"
      },
      "outputs": [
        {
          "output_type": "stream",
          "name": "stdout",
          "text": [
            "Found 1857 files belonging to 10 classes.\n",
            "Using 1486 files for training.\n",
            "Using 371 files for validation.\n",
            "Количество классов: 10\n",
            "Метки классов: ['Afghan_hound', 'Bernese_mountain_dog', 'Brittany_spaniel', 'Chow', 'Dandie_Dinmont', 'Norfolk_terrier', 'Otterhound', 'Sealyham_terrier', 'Siberian_husky', 'Standard_poodle']\n"
          ]
        }
      ],
      "source": [
        "IMAGE_PATH = '/content/drive/MyDrive/random_classes_dogs/'\n",
        "\n",
        "train_ds, val_ds = keras.utils.image_dataset_from_directory(\n",
        "    IMAGE_PATH, # путь к папке с данными\n",
        "    validation_split=0.2, # отщепляем 20% на проверочную выборку\n",
        "    subset=\"both\", # указываем, что необходимо вернуть кортеж из обучающей и проверочной выборок (\"training\", \"validation\" или \"both\")\n",
        "    seed=42,  # воспроизводимость результата генерации (результаты с одинаковым числом - одинаковы),\n",
        "    shuffle=True, # перемешиваем датасет\n",
        "    image_size=IMAGE_SIZE, # размер генерируемых изображений\n",
        "    batch_size=BATCH_SIZE, # размер мини-батча\n",
        ")\n",
        "\n",
        "# Определяем список имен классов\n",
        "CLASS_LIST = sorted(os.listdir(IMAGE_PATH))\n",
        "\n",
        "# Удаляем '.ipynb_checkpoints', если он есть в списке\n",
        "if '.ipynb_checkpoints' in CLASS_LIST:\n",
        "    CLASS_LIST.remove('.ipynb_checkpoints')\n",
        "\n",
        "# Определяем количества классов\n",
        "CLASS_COUNT = len(CLASS_LIST)\n",
        "\n",
        "# Вывод результата\n",
        "print(f'Количество классов: {CLASS_COUNT}')\n",
        "print(f'Метки классов: {CLASS_LIST}')"
      ]
    },
    {
      "cell_type": "code",
      "execution_count": null,
      "metadata": {
        "id": "O-CQeWWlc_ah"
      },
      "outputs": [],
      "source": [
        "img_augmentation_layers = [\n",
        "    layers.RandomRotation(factor=0.15), # Вращаем изображение в пределах 15%\n",
        "    layers.RandomTranslation(height_factor=0.1, width_factor=0.1), # Сдвиг на 10% по вертикали и горизонтали\n",
        "    layers.RandomFlip(), # Отражение по вертикали и горизонтали\n",
        "    layers.RandomContrast(factor=0.1), # Изменяем контрастность на 10%\n",
        "]\n",
        "\n",
        "\n",
        "def img_augmentation(images):\n",
        "    # Слои - это функции, которые мы последовательно применяем к входным данным\n",
        "    for layer in img_augmentation_layers:\n",
        "        images = layer(images)\n",
        "    return images"
      ]
    },
    {
      "cell_type": "code",
      "execution_count": null,
      "metadata": {
        "id": "UNDoEf0GfKww"
      },
      "outputs": [],
      "source": [
        "# Применяем `img_augmentation` к обучающей выборке\n",
        "train_ds = train_ds.map(\n",
        "    lambda img, label: (img_augmentation(img), keras.ops.one_hot(label, CLASS_COUNT)), # One-hot кодирование\n",
        "    num_parallel_calls=tf_data.AUTOTUNE, # число потоков для обработки в map (автонастройка зависит от возможностей процессора)\n",
        ")\n",
        "\n",
        "val_ds = val_ds.map(\n",
        "    lambda img, label: (img, keras.ops.one_hot(label, CLASS_COUNT)), # One-hot кодирование\n",
        "    num_parallel_calls=tf_data.AUTOTUNE, # число потоков для обработки в map (автонастройка зависит от возможностей процессора)\n",
        ")\n",
        "\n",
        "# Предварительная выборка примеров в память GPU или оперативную память\n",
        "# Помогает максимально эффективно использовать графический процессор\n",
        "train_ds = train_ds.prefetch(tf_data.AUTOTUNE)\n",
        "val_ds = val_ds.prefetch(tf_data.AUTOTUNE)"
      ]
    },
    {
      "cell_type": "code",
      "execution_count": null,
      "metadata": {
        "id": "8O5dbpZyfPpA"
      },
      "outputs": [],
      "source": [
        "def show_plot(history):\n",
        "    acc = history.history['acc']\n",
        "    epochs = range(1, len(acc) + 1)\n",
        "    val_acc = history.history['val_acc']\n",
        "    loss = history.history['loss']\n",
        "    val_loss = history.history['val_loss']\n",
        "    epochs = range(1, len(acc) + 1)\n",
        "    plt.plot(epochs, acc, 'r', label='Точность на обучающей выборке')\n",
        "    plt.plot(epochs, val_acc, 'b', label='Точность на проверочной выборке')\n",
        "    plt.title('График точности на обучающей и проверочной выборках')\n",
        "    plt.legend()\n",
        "    plt.figure()\n",
        "    plt.plot(epochs, loss, 'r', label='Потери на обучающей выборке')\n",
        "    plt.plot(epochs, val_loss, 'b', label='Потери на проверочной выборке')\n",
        "    plt.title('График потерь на обучающей и проверочной выборках')\n",
        "    plt.legend()\n",
        "    plt.show()"
      ]
    },
    {
      "cell_type": "code",
      "execution_count": null,
      "metadata": {
        "id": "NYS-GoinfUiA"
      },
      "outputs": [],
      "source": [
        "def build_model(num_classes):\n",
        "    inputs = layers.Input(shape=(IMAGE_SIZE[0], IMAGE_SIZE[1], 3))\n",
        "    model = EfficientNetV2B0(include_top=False, input_tensor=inputs, weights=\"imagenet\")\n",
        "\n",
        "    # Заморозка предобученных весов\n",
        "    model.trainable = False\n",
        "\n",
        "    # Замена верхних слоев\n",
        "    x = layers.GlobalAveragePooling2D(name=\"avg_pool\")(model.output)\n",
        "    x = layers.BatchNormalization()(x)\n",
        "\n",
        "    top_dropout_rate = 0.2\n",
        "    x = layers.Dropout(top_dropout_rate, name=\"top_dropout\")(x)\n",
        "    outputs = layers.Dense(num_classes, activation=\"softmax\", name=\"pred\")(x)\n",
        "\n",
        "    # Компилируем\n",
        "    model = keras.Model(inputs, outputs, name=\"EfficientNet\")\n",
        "    optimizer = keras.optimizers.Adam(learning_rate=1e-2)\n",
        "    model.compile(\n",
        "        optimizer=optimizer, loss=\"categorical_crossentropy\", metrics=[\"acc\"]\n",
        "    )\n",
        "    return model"
      ]
    },
    {
      "cell_type": "code",
      "execution_count": null,
      "metadata": {
        "colab": {
          "base_uri": "https://localhost:8080/",
          "height": 1000
        },
        "id": "rE1JoEqZfaFR",
        "outputId": "478e3861-38ba-4364-8022-cd496b4ac1e6"
      },
      "outputs": [
        {
          "output_type": "stream",
          "name": "stdout",
          "text": [
            "Downloading data from https://storage.googleapis.com/tensorflow/keras-applications/efficientnet_v2/efficientnetv2-b0_notop.h5\n",
            "\u001b[1m24274472/24274472\u001b[0m \u001b[32m━━━━━━━━━━━━━━━━━━━━\u001b[0m\u001b[37m\u001b[0m \u001b[1m0s\u001b[0m 0us/step\n",
            "Epoch 1/15\n",
            "\u001b[1m24/24\u001b[0m \u001b[32m━━━━━━━━━━━━━━━━━━━━\u001b[0m\u001b[37m\u001b[0m \u001b[1m335s\u001b[0m 11s/step - acc: 0.6563 - loss: 1.2363 - val_acc: 0.9757 - val_loss: 0.0906\n",
            "Epoch 2/15\n",
            "\u001b[1m24/24\u001b[0m \u001b[32m━━━━━━━━━━━━━━━━━━━━\u001b[0m\u001b[37m\u001b[0m \u001b[1m171s\u001b[0m 7s/step - acc: 0.8776 - loss: 0.5659 - val_acc: 0.9730 - val_loss: 0.1023\n",
            "Epoch 3/15\n",
            "\u001b[1m24/24\u001b[0m \u001b[32m━━━━━━━━━━━━━━━━━━━━\u001b[0m\u001b[37m\u001b[0m \u001b[1m177s\u001b[0m 7s/step - acc: 0.8869 - loss: 0.5313 - val_acc: 0.9811 - val_loss: 0.0639\n",
            "Epoch 4/15\n",
            "\u001b[1m24/24\u001b[0m \u001b[32m━━━━━━━━━━━━━━━━━━━━\u001b[0m\u001b[37m\u001b[0m \u001b[1m209s\u001b[0m 7s/step - acc: 0.9079 - loss: 0.3889 - val_acc: 0.9677 - val_loss: 0.0819\n",
            "Epoch 5/15\n",
            "\u001b[1m24/24\u001b[0m \u001b[32m━━━━━━━━━━━━━━━━━━━━\u001b[0m\u001b[37m\u001b[0m \u001b[1m177s\u001b[0m 6s/step - acc: 0.8955 - loss: 0.4681 - val_acc: 0.9838 - val_loss: 0.0340\n",
            "Epoch 6/15\n",
            "\u001b[1m24/24\u001b[0m \u001b[32m━━━━━━━━━━━━━━━━━━━━\u001b[0m\u001b[37m\u001b[0m \u001b[1m213s\u001b[0m 7s/step - acc: 0.9147 - loss: 0.3129 - val_acc: 0.9838 - val_loss: 0.0382\n",
            "Epoch 7/15\n",
            "\u001b[1m24/24\u001b[0m \u001b[32m━━━━━━━━━━━━━━━━━━━━\u001b[0m\u001b[37m\u001b[0m \u001b[1m170s\u001b[0m 7s/step - acc: 0.8999 - loss: 0.4663 - val_acc: 0.9946 - val_loss: 0.0185\n",
            "Epoch 8/15\n",
            "\u001b[1m24/24\u001b[0m \u001b[32m━━━━━━━━━━━━━━━━━━━━\u001b[0m\u001b[37m\u001b[0m \u001b[1m207s\u001b[0m 7s/step - acc: 0.9004 - loss: 0.5253 - val_acc: 0.9919 - val_loss: 0.0190\n",
            "Epoch 9/15\n",
            "\u001b[1m24/24\u001b[0m \u001b[32m━━━━━━━━━━━━━━━━━━━━\u001b[0m\u001b[37m\u001b[0m \u001b[1m187s\u001b[0m 6s/step - acc: 0.9021 - loss: 0.4914 - val_acc: 0.9919 - val_loss: 0.0213\n",
            "Epoch 10/15\n",
            "\u001b[1m24/24\u001b[0m \u001b[32m━━━━━━━━━━━━━━━━━━━━\u001b[0m\u001b[37m\u001b[0m \u001b[1m172s\u001b[0m 7s/step - acc: 0.9080 - loss: 0.4439 - val_acc: 0.9919 - val_loss: 0.0165\n",
            "Epoch 11/15\n",
            "\u001b[1m24/24\u001b[0m \u001b[32m━━━━━━━━━━━━━━━━━━━━\u001b[0m\u001b[37m\u001b[0m \u001b[1m173s\u001b[0m 7s/step - acc: 0.9159 - loss: 0.3976 - val_acc: 0.9946 - val_loss: 0.0280\n",
            "Epoch 12/15\n",
            "\u001b[1m24/24\u001b[0m \u001b[32m━━━━━━━━━━━━━━━━━━━━\u001b[0m\u001b[37m\u001b[0m \u001b[1m189s\u001b[0m 6s/step - acc: 0.9168 - loss: 0.3808 - val_acc: 0.9973 - val_loss: 0.0130\n",
            "Epoch 13/15\n",
            "\u001b[1m24/24\u001b[0m \u001b[32m━━━━━━━━━━━━━━━━━━━━\u001b[0m\u001b[37m\u001b[0m \u001b[1m172s\u001b[0m 7s/step - acc: 0.9205 - loss: 0.3481 - val_acc: 0.9919 - val_loss: 0.0180\n",
            "Epoch 14/15\n",
            "\u001b[1m24/24\u001b[0m \u001b[32m━━━━━━━━━━━━━━━━━━━━\u001b[0m\u001b[37m\u001b[0m \u001b[1m170s\u001b[0m 7s/step - acc: 0.9406 - loss: 0.2302 - val_acc: 0.9973 - val_loss: 0.0065\n",
            "Epoch 15/15\n",
            "\u001b[1m24/24\u001b[0m \u001b[32m━━━━━━━━━━━━━━━━━━━━\u001b[0m\u001b[37m\u001b[0m \u001b[1m183s\u001b[0m 6s/step - acc: 0.9129 - loss: 0.4171 - val_acc: 0.9919 - val_loss: 0.0222\n"
          ]
        },
        {
          "output_type": "display_data",
          "data": {
            "text/plain": [
              "<Figure size 640x480 with 1 Axes>"
            ],
            "image/png": "[encoded data removed]"
          },
          "metadata": {}
        },
        {
          "output_type": "display_data",
          "data": {
            "text/plain": [
              "<Figure size 640x480 with 1 Axes>"
            ],
            "image/png": "[encoded data removed]"
          },
          "metadata": {}
        }
      ],
      "source": [
        "epochs = 15\n",
        "\n",
        "callbacks = [\n",
        "    keras.callbacks.EarlyStopping(\n",
        "                    monitor='val_acc',\n",
        "                    mode='max',\n",
        "                    min_delta=0.001,\n",
        "                    patience = 10),\n",
        "\n",
        "    keras.callbacks.ModelCheckpoint(filepath = 'best_model_pretrain.keras',\n",
        "                             monitor = 'val_acc',\n",
        "                             save_best_only = True,\n",
        "                             mode = 'max',\n",
        "                             verbose = 0)\n",
        "]\n",
        "\n",
        "model = build_model(num_classes=CLASS_COUNT)\n",
        "\n",
        "\n",
        "history = model.fit(train_ds, epochs=epochs, validation_data=val_ds, callbacks=callbacks)\n",
        "\n",
        "show_plot(history)"
      ]
    },
    {
      "cell_type": "code",
      "execution_count": null,
      "metadata": {
        "id": "3XGvKKVhicjt",
        "colab": {
          "base_uri": "https://localhost:8080/",
          "height": 17
        },
        "outputId": "72bb561e-2da9-4aba-8100-99dfefff9287"
      },
      "outputs": [
        {
          "output_type": "display_data",
          "data": {
            "text/plain": [
              "<IPython.core.display.Javascript object>"
            ],
            "application/javascript": [
              "\n",
              "    async function download(id, filename, size) {\n",
              "      if (!google.colab.kernel.accessAllowed) {\n",
              "        return;\n",
              "      }\n",
              "      const div = document.createElement('div');\n",
              "      const label = document.createElement('label');\n",
              "      label.textContent = `Downloading \"${filename}\": `;\n",
              "      div.appendChild(label);\n",
              "      const progress = document.createElement('progress');\n",
              "      progress.max = size;\n",
              "      div.appendChild(progress);\n",
              "      document.body.appendChild(div);\n",
              "\n",
              "      const buffers = [];\n",
              "      let downloaded = 0;\n",
              "\n",
              "      const channel = await google.colab.kernel.comms.open(id);\n",
              "      // Send a message to notify the kernel that we're ready.\n",
              "      channel.send({})\n",
              "\n",
              "      for await (const message of channel.messages) {\n",
              "        // Send a message to notify the kernel that we're ready.\n",
              "        channel.send({})\n",
              "        if (message.buffers) {\n",
              "          for (const buffer of message.buffers) {\n",
              "            buffers.push(buffer);\n",
              "            downloaded += buffer.byteLength;\n",
              "            progress.value = downloaded;\n",
              "          }\n",
              "        }\n",
              "      }\n",
              "      const blob = new Blob(buffers, {type: 'application/binary'});\n",
              "      const a = document.createElement('a');\n",
              "      a.href = window.URL.createObjectURL(blob);\n",
              "      a.download = filename;\n",
              "      div.appendChild(a);\n",
              "      a.click();\n",
              "      div.remove();\n",
              "    }\n",
              "  "
            ]
          },
          "metadata": {}
        },
        {
          "output_type": "display_data",
          "data": {
            "text/plain": [
              "<IPython.core.display.Javascript object>"
            ],
            "application/javascript": [
              "download(\"download_e0ecb509-5c23-4a98-a5b1-4242d09554b9\", \"model_before_timeout.keras\", 24782815)"
            ]
          },
          "metadata": {}
        }
      ],
      "source": [
        "model.save('model_before_timeout.keras')\n",
        "from google.colab import files\n",
        "files.download('model_before_timeout.keras')"
      ]
    },
    {
      "cell_type": "code",
      "execution_count": null,
      "metadata": {
        "id": "xcuj8aSVxKzV",
        "colab": {
          "base_uri": "https://localhost:8080/"
        },
        "outputId": "034c4f24-596f-4144-b53b-87bf6a61d8f6"
      },
      "outputs": [
        {
          "output_type": "stream",
          "name": "stderr",
          "text": [
            "/usr/local/lib/python3.10/dist-packages/keras/src/saving/saving_lib.py:355: UserWarning: Skipping variable loading for optimizer 'adam', because it has 492 variables whereas the saved optimizer has 10 variables. \n",
            "  trackable.load_own_variables(weights_store.get(inner_path))\n"
          ]
        }
      ],
      "source": [
        "from keras.models import load_model\n",
        "\n",
        "# Загрузка модели из файла\n",
        "model = load_model('/content/drive/MyDrive/model_before_timeout.keras')"
      ]
    },
    {
      "cell_type": "code",
      "execution_count": null,
      "metadata": {
        "id": "BGqCdaJqBAQh"
      },
      "outputs": [],
      "source": [
        "def unfreeze_model(model):\n",
        "    # Мы размораживаем 20 верхних слоев за исключением BatchNormalization\n",
        "    for layer in model.layers[-20:]:\n",
        "        if not isinstance(layer, layers.BatchNormalization):\n",
        "            layer.trainable = True\n",
        "    # В оптимизаторе устанавливаем маленький шаг обучения\n",
        "    optimizer = keras.optimizers.Adam(learning_rate=1e-5)\n",
        "    model.compile(\n",
        "        optimizer=optimizer, loss=\"categorical_crossentropy\", metrics=[\"acc\"]\n",
        "    )\n",
        "\n",
        "\n",
        "unfreeze_model(model)\n",
        "\n",
        "epochs = 4\n",
        "history = model.fit(train_ds, epochs=epochs, validation_data=val_ds)\n",
        "show_plot(history)\n",
        "\n",
        "model.save('model_before_timeout.keras')\n",
        "\n",
        "from google.colab import files\n",
        "files.download('model_before_timeout.keras')"
      ]
    }
  ],
  "metadata": {
    "accelerator": "GPU",
    "colab": {
      "gpuType": "T4",
      "provenance": []
    },
    "kernelspec": {
      "display_name": "Python 3",
      "name": "python3"
    },
    "language_info": {
      "name": "python"
    }
  },
  "nbformat": 4,
  "nbformat_minor": 0
}